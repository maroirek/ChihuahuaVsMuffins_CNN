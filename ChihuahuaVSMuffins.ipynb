{
  "cells": [
    {
      "cell_type": "code",
      "execution_count": 2,
      "metadata": {
        "colab": {
          "base_uri": "https://localhost:8080/"
        },
        "id": "9A7qm39KnJCC",
        "outputId": "5db2cee0-e907-49fd-88cd-d860bd9ce967"
      },
      "outputs": [
        {
          "output_type": "stream",
          "name": "stdout",
          "text": [
            "Mounted at /content/drive\n"
          ]
        }
      ],
      "source": [
        "import tensorflow as tf\n",
        "import numpy as np\n",
        "import matplotlib.pyplot as plt\n",
        "from sklearn.model_selection import train_test_split\n",
        "import cv2 as cv\n",
        "\n",
        "import os\n",
        "from google.colab import drive\n",
        "drive.mount('/content/drive')"
      ]
    },
    {
      "cell_type": "code",
      "execution_count": null,
      "metadata": {
        "id": "9LfD7-DznFLN"
      },
      "outputs": [],
      "source": [
        "# creating dataset\n",
        "labels=[]\n",
        "x=[]\n",
        "y=[]\n",
        "id=0\n",
        "label_id={}\n",
        "\n",
        "for root, dir, images in os.walk('/content/drive/MyDrive/Classroom/Dataset_Chihuahua_Vs_Muffins'):\n",
        "    for image in images:\n",
        "        if image.endswith('jpeg') or image.endswith('jpg') :\n",
        "            path= os.path.join(root, image)\n",
        "            label = os.path.basename(os.path.dirname(path)) \n",
        "                 \n",
        "            if not (label in labels) :\n",
        "                labels.append(label)\n",
        "                label_id [label] = len(labels)-1\n",
        "            img = cv.imread(f'{root}/{image}')\n",
        "            img = cv.cvtColor(img, cv.COLOR_BGR2RGB)\n",
        "            img = cv.resize(img,(172,172),interpolation = cv.INTER_AREA)\n",
        "            x.append(img)\n",
        "            y.append(label_id[label])\n",
        "x= np.array(x)\n",
        "y= np.array(y)"
      ]
    },
    {
      "cell_type": "code",
      "execution_count": 1,
      "metadata": {
        "colab": {
          "base_uri": "https://localhost:8080/",
          "height": 183
        },
        "id": "KiaAIbAR_kxI",
        "outputId": "6cca2080-0056-4c82-86cd-3aee7ad01ec5"
      },
      "outputs": [
        {
          "output_type": "error",
          "ename": "NameError",
          "evalue": "ignored",
          "traceback": [
            "\u001b[0;31m---------------------------------------------------------------------------\u001b[0m",
            "\u001b[0;31mNameError\u001b[0m                                 Traceback (most recent call last)",
            "\u001b[0;32m<ipython-input-1-23af511d435b>\u001b[0m in \u001b[0;36m<module>\u001b[0;34m\u001b[0m\n\u001b[0;32m----> 1\u001b[0;31m \u001b[0;32mfor\u001b[0m \u001b[0mimage\u001b[0m \u001b[0;32min\u001b[0m \u001b[0mimages\u001b[0m\u001b[0;34m:\u001b[0m  \u001b[0;31m# to see size of images and if we need to resize or not\u001b[0m\u001b[0;34m\u001b[0m\u001b[0;34m\u001b[0m\u001b[0m\n\u001b[0m\u001b[1;32m      2\u001b[0m   \u001b[0mprint\u001b[0m\u001b[0;34m(\u001b[0m\u001b[0mimage\u001b[0m\u001b[0;34m.\u001b[0m\u001b[0mshape\u001b[0m\u001b[0;34m)\u001b[0m\u001b[0;34m\u001b[0m\u001b[0;34m\u001b[0m\u001b[0m\n",
            "\u001b[0;31mNameError\u001b[0m: name 'images' is not defined"
          ]
        }
      ],
      "source": [
        "for image in images:  # to see size of images and if we need to resize or not \n",
        "  print(image.shape)"
      ]
    },
    {
      "cell_type": "code",
      "execution_count": null,
      "metadata": {
        "colab": {
          "base_uri": "https://localhost:8080/"
        },
        "id": "3U3bUAKU-7bf",
        "outputId": "7b7d00b3-8364-4bfe-9c27-2276a80000ea"
      },
      "outputs": [
        {
          "data": {
            "text/plain": [
              "numpy.ndarray"
            ]
          },
          "execution_count": 70,
          "metadata": {},
          "output_type": "execute_result"
        }
      ],
      "source": [
        "# Dividing the data set into train and test\n",
        "xtr, xts, ytr, yts = train_test_split(x,y, test_size=0.2)\n",
        "type(ytr)"
      ]
    },
    {
      "cell_type": "code",
      "execution_count": null,
      "metadata": {
        "id": "nReq-he2jz-d"
      },
      "outputs": [],
      "source": [
        "# CNN architecture\n",
        "CNN = tf.keras.models.Sequential([tf.keras.layers.Conv2D(16, (3, 3), input_shape=(172, 172, 3), activation='relu'),\n",
        "                                    tf.keras.layers.MaxPool2D(),\n",
        "                                    tf.keras.layers.Flatten(),\n",
        "                                    tf.keras.layers.Dense(20, activation='relu'),\n",
        "                                    tf.keras.layers.Dropout(0.2),\n",
        "                                    tf.keras.layers.Dense(2, activation='softmax')\n",
        "                                    ])\n",
        "\n",
        "CNN.compile(optimizer='adam', loss='mean_squared_error', metrics=[\"accuracy\"])"
      ]
    },
    {
      "cell_type": "code",
      "execution_count": null,
      "metadata": {
        "colab": {
          "base_uri": "https://localhost:8080/"
        },
        "id": "dVJYQ0LFmbVJ",
        "outputId": "72e862d7-40d9-49ab-8379-df933f6b55cf"
      },
      "outputs": [
        {
          "output_type": "stream",
          "name": "stdout",
          "text": [
            "Epoch 1/5\n",
            "1/1 [==============================] - 2s 2s/step - loss: 0.4961 - accuracy: 0.2500\n",
            "Epoch 2/5\n",
            "1/1 [==============================] - 0s 197ms/step - loss: 0.5000 - accuracy: 0.5000\n",
            "Epoch 3/5\n",
            "1/1 [==============================] - 0s 270ms/step - loss: 0.5000 - accuracy: 0.4167\n",
            "Epoch 4/5\n",
            "1/1 [==============================] - 0s 243ms/step - loss: 0.5000 - accuracy: 0.4167\n",
            "Epoch 5/5\n",
            "1/1 [==============================] - 0s 252ms/step - loss: 0.5000 - accuracy: 0.5000\n"
          ]
        },
        {
          "output_type": "execute_result",
          "data": {
            "text/plain": [
              "<keras.callbacks.History at 0x7f27f1b17880>"
            ]
          },
          "metadata": {},
          "execution_count": 102
        }
      ],
      "source": [
        "# CNN training\n",
        "CNN.fit(xtr,ytr,epochs=5)"
      ]
    },
    {
      "cell_type": "code",
      "execution_count": null,
      "metadata": {
        "colab": {
          "base_uri": "https://localhost:8080/"
        },
        "id": "JSve0H5KX1NZ",
        "outputId": "507ed5db-a045-4b97-88c5-7f809973379d"
      },
      "outputs": [
        {
          "output_type": "stream",
          "name": "stderr",
          "text": [
            "WARNING:tensorflow:5 out of the last 5 calls to <function Model.make_test_function.<locals>.test_function at 0x7f27ec4cc940> triggered tf.function retracing. Tracing is expensive and the excessive number of tracings could be due to (1) creating @tf.function repeatedly in a loop, (2) passing tensors with different shapes, (3) passing Python objects instead of tensors. For (1), please define your @tf.function outside of the loop. For (2), @tf.function has reduce_retracing=True option that can avoid unnecessary retracing. For (3), please refer to https://www.tensorflow.org/guide/function#controlling_retracing and https://www.tensorflow.org/api_docs/python/tf/function for  more details.\n"
          ]
        },
        {
          "output_type": "stream",
          "name": "stdout",
          "text": [
            "1/1 [==============================] - 0s 131ms/step - loss: 0.5000 - accuracy: 0.7500\n"
          ]
        }
      ],
      "source": [
        "loss, acc = CNN.evaluate(xts,yts)"
      ]
    },
    {
      "cell_type": "code",
      "execution_count": null,
      "metadata": {
        "colab": {
          "base_uri": "https://localhost:8080/"
        },
        "id": "_QfprogcXOV0",
        "outputId": "532817d1-40c3-4457-8fd2-9c20643e9355"
      },
      "outputs": [
        {
          "output_type": "stream",
          "name": "stderr",
          "text": [
            "WARNING:tensorflow:6 out of the last 6 calls to <function Model.make_predict_function.<locals>.predict_function at 0x7f27ec44f3a0> triggered tf.function retracing. Tracing is expensive and the excessive number of tracings could be due to (1) creating @tf.function repeatedly in a loop, (2) passing tensors with different shapes, (3) passing Python objects instead of tensors. For (1), please define your @tf.function outside of the loop. For (2), @tf.function has reduce_retracing=True option that can avoid unnecessary retracing. For (3), please refer to https://www.tensorflow.org/guide/function#controlling_retracing and https://www.tensorflow.org/api_docs/python/tf/function for  more details.\n"
          ]
        },
        {
          "output_type": "stream",
          "name": "stdout",
          "text": [
            "1/1 [==============================] - 0s 67ms/step\n"
          ]
        },
        {
          "output_type": "execute_result",
          "data": {
            "text/plain": [
              "array([[0., 1.]], dtype=float32)"
            ]
          },
          "metadata": {},
          "execution_count": 104
        }
      ],
      "source": [
        "test = cv.resize(cv.imread('/content/drive/MyDrive/Classroom/Dataset_Chihuahua_Vs_Muffins/test.png'), (172,172),interpolation = cv.INTER_AREA)\n",
        "test= np.array([test])\n",
        "CNN.predict([test])"
      ]
    }
  ],
  "metadata": {
    "colab": {
      "provenance": []
    },
    "kernelspec": {
      "display_name": "Python 3",
      "name": "python3"
    },
    "language_info": {
      "name": "python"
    }
  },
  "nbformat": 4,
  "nbformat_minor": 0
}